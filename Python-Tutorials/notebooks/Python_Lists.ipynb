{
  "nbformat": 4,
  "nbformat_minor": 0,
  "metadata": {
    "colab": {
      "name": "Python_Lists",
      "version": "0.3.2",
      "provenance": []
    },
    "kernelspec": {
      "name": "python3",
      "display_name": "Python 3"
    }
  },
  "cells": [
    {
      "metadata": {
        "id": "2sVSq4hnx6Y3",
        "colab_type": "text"
      },
      "cell_type": "markdown",
      "source": [
        "## Python Lists"
      ]
    },
    {
      "metadata": {
        "id": "bJwu9IRBv9AL",
        "colab_type": "code",
        "colab": {
          "base_uri": "https://localhost:8080/",
          "height": 69
        },
        "outputId": "c2f6281b-6bbb-4d69-e9ea-6973394d0168"
      },
      "cell_type": "code",
      "source": [
        "  colors = ['red', 'blue', 'green']\n",
        "  print(colors[0])    ## red\n",
        "  print(colors[2])    ## green\n",
        "  print(len(colors))  ## 3"
      ],
      "execution_count": 0,
      "outputs": [
        {
          "output_type": "stream",
          "text": [
            "red\n",
            "green\n",
            "3\n"
          ],
          "name": "stdout"
        }
      ]
    },
    {
      "metadata": {
        "id": "7ZDwfmRtyGXB",
        "colab_type": "code",
        "colab": {}
      },
      "cell_type": "code",
      "source": [
        "b = colors   ## Does not copy the list - only the reference is copied"
      ],
      "execution_count": 0,
      "outputs": []
    },
    {
      "metadata": {
        "id": "7P-elryfyq34",
        "colab_type": "code",
        "colab": {
          "base_uri": "https://localhost:8080/",
          "height": 34
        },
        "outputId": "0e3d9a21-b917-4cbb-f5ca-676275cef5bb"
      },
      "cell_type": "code",
      "source": [
        "b[2] = 'yellow'\n",
        "print(colors)"
      ],
      "execution_count": 0,
      "outputs": [
        {
          "output_type": "stream",
          "text": [
            "['red', 'blue', 'yellow']\n"
          ],
          "name": "stdout"
        }
      ]
    },
    {
      "metadata": {
        "id": "dWtrnAzJy-oO",
        "colab_type": "text"
      },
      "cell_type": "markdown",
      "source": [
        "## FOR and IN\n",
        "* use for .. in to loop through the items in the list"
      ]
    },
    {
      "metadata": {
        "id": "riB0b1EIyvpe",
        "colab_type": "code",
        "colab": {
          "base_uri": "https://localhost:8080/",
          "height": 69
        },
        "outputId": "9dca4c01-81fc-4219-f8bc-066fae019543"
      },
      "cell_type": "code",
      "source": [
        "for ix,v in enumerate(colors):\n",
        "  print(ix,v)"
      ],
      "execution_count": 0,
      "outputs": [
        {
          "output_type": "stream",
          "text": [
            "0 red\n",
            "1 blue\n",
            "2 yellow\n"
          ],
          "name": "stdout"
        }
      ]
    },
    {
      "metadata": {
        "id": "esgev5bSrCJQ",
        "colab_type": "code",
        "colab": {
          "base_uri": "https://localhost:8080/",
          "height": 34
        },
        "outputId": "a09b63e4-c593-4ce5-a91b-2eeccfb4d027"
      },
      "cell_type": "code",
      "source": [
        "x = (1,2,3,4)\n",
        "x[0]"
      ],
      "execution_count": 0,
      "outputs": [
        {
          "output_type": "execute_result",
          "data": {
            "text/plain": [
              "1"
            ]
          },
          "metadata": {
            "tags": []
          },
          "execution_count": 14
        }
      ]
    },
    {
      "metadata": {
        "id": "xzYx7Dv4zN94",
        "colab_type": "text"
      },
      "cell_type": "markdown",
      "source": [
        "## Range\n",
        "* can be used to loop in a specific range\n",
        "* starts with zero index\n",
        "*  the left boundary is inclusive and the right boundary is not inclusive"
      ]
    },
    {
      "metadata": {
        "id": "vgBd4_VSzC27",
        "colab_type": "code",
        "colab": {
          "base_uri": "https://localhost:8080/",
          "height": 191
        },
        "outputId": "7295ace1-3601-4dfd-a87a-c0a61a18bcc3"
      },
      "cell_type": "code",
      "source": [
        "for i in range(0,10):\n",
        "  print(i)"
      ],
      "execution_count": 0,
      "outputs": [
        {
          "output_type": "stream",
          "text": [
            "0\n",
            "1\n",
            "2\n",
            "3\n",
            "4\n",
            "5\n",
            "6\n",
            "7\n",
            "8\n",
            "9\n"
          ],
          "name": "stdout"
        }
      ]
    },
    {
      "metadata": {
        "id": "xposzYKTzVYr",
        "colab_type": "text"
      },
      "cell_type": "markdown",
      "source": [
        "* step size can be altered in range"
      ]
    },
    {
      "metadata": {
        "id": "_uy4NAskzLzq",
        "colab_type": "code",
        "colab": {
          "base_uri": "https://localhost:8080/",
          "height": 86
        },
        "outputId": "71a0803e-cd69-4969-dd40-489af70473dc"
      },
      "cell_type": "code",
      "source": [
        "for i in range(0,11,3):\n",
        "  print(i)"
      ],
      "execution_count": 0,
      "outputs": [
        {
          "output_type": "stream",
          "text": [
            "0\n",
            "3\n",
            "6\n",
            "9\n"
          ],
          "name": "stdout"
        }
      ]
    },
    {
      "metadata": {
        "id": "7eekrwbDzfZq",
        "colab_type": "text"
      },
      "cell_type": "markdown",
      "source": [
        "* you could also iterate in reverse"
      ]
    },
    {
      "metadata": {
        "id": "eVWyQkh3zbPo",
        "colab_type": "code",
        "colab": {
          "base_uri": "https://localhost:8080/",
          "height": 104
        },
        "outputId": "d352aafc-a4a7-4110-c557-65b84bcb3b70"
      },
      "cell_type": "code",
      "source": [
        "for i in range(5,0,-1):\n",
        "  print(i)"
      ],
      "execution_count": 0,
      "outputs": [
        {
          "output_type": "stream",
          "text": [
            "5\n",
            "4\n",
            "3\n",
            "2\n",
            "1\n"
          ],
          "name": "stdout"
        }
      ]
    },
    {
      "metadata": {
        "id": "YRbkpN1asX48",
        "colab_type": "code",
        "colab": {
          "base_uri": "https://localhost:8080/",
          "height": 69
        },
        "outputId": "6c192b1a-5105-4c18-a6eb-795d9f0216a3"
      },
      "cell_type": "code",
      "source": [
        "for i in range(len(colors)-1,-1,-1):\n",
        "  print(i,colors[i])"
      ],
      "execution_count": 0,
      "outputs": [
        {
          "output_type": "stream",
          "text": [
            "2 yellow\n",
            "1 blue\n",
            "0 red\n"
          ],
          "name": "stdout"
        }
      ]
    },
    {
      "metadata": {
        "id": "SsOrmKmTszJn",
        "colab_type": "code",
        "colab": {
          "base_uri": "https://localhost:8080/",
          "height": 52
        },
        "outputId": "fd80dc6d-d19f-4cc2-db8d-3f188f11b000"
      },
      "cell_type": "code",
      "source": [
        "# colors = ['red','blue','yellow']\n",
        "print(colors)\n",
        "for i in range(len(colors)):\n",
        "  colors[i] = 'x ' + colors[i]\n",
        "colors"
      ],
      "execution_count": 0,
      "outputs": [
        {
          "output_type": "stream",
          "text": [
            "['x x red', 'x x blue', 'x x yellow']\n"
          ],
          "name": "stdout"
        },
        {
          "output_type": "execute_result",
          "data": {
            "text/plain": [
              "['x x x red', 'x x x blue', 'x x x yellow']"
            ]
          },
          "metadata": {
            "tags": []
          },
          "execution_count": 34
        }
      ]
    },
    {
      "metadata": {
        "id": "1IQw3icttUTY",
        "colab_type": "code",
        "colab": {
          "base_uri": "https://localhost:8080/",
          "height": 34
        },
        "outputId": "f9bb1738-05b6-47a2-f91a-d548a32dfebe"
      },
      "cell_type": "code",
      "source": [
        "x = [1,2,3,4,5]\n",
        "for i,v in enumerate(x):\n",
        "  x[i] = x[i] + 2\n",
        "x"
      ],
      "execution_count": 0,
      "outputs": [
        {
          "output_type": "execute_result",
          "data": {
            "text/plain": [
              "[3, 4, 5, 6, 7]"
            ]
          },
          "metadata": {
            "tags": []
          },
          "execution_count": 35
        }
      ]
    },
    {
      "metadata": {
        "id": "tfrtqZZFz5j9",
        "colab_type": "text"
      },
      "cell_type": "markdown",
      "source": [
        "## While loop"
      ]
    },
    {
      "metadata": {
        "id": "R40suJ5PzmEb",
        "colab_type": "code",
        "colab": {
          "base_uri": "https://localhost:8080/",
          "height": 34
        },
        "outputId": "0611bd1a-0a4d-4d60-a56c-ef8543914e03"
      },
      "cell_type": "code",
      "source": [
        "process_completed = False\n",
        "i = 0\n",
        "while not process_completed:\n",
        "  if process_completed:\n",
        "    break\n",
        "  else:\n",
        "    i += 1\n",
        "    if i > 100:\n",
        "      process_completed = True    \n",
        "      print('exiting while loop at index:{}'.format(i))"
      ],
      "execution_count": 0,
      "outputs": [
        {
          "output_type": "stream",
          "text": [
            "exiting while loop at index:101\n"
          ],
          "name": "stdout"
        }
      ]
    },
    {
      "metadata": {
        "id": "YurFJuTK1Fp8",
        "colab_type": "text"
      },
      "cell_type": "markdown",
      "source": [
        "## List Methods\n",
        "\n",
        "Here are some other common list methods.\n",
        "\n",
        "*  list.append(elem) -- adds a single element to the end of the list. Common error: does not return the new list, just modifies the original.\n",
        "* list.insert(index, elem) -- inserts the element at the given index, shifting elements to the right.\n",
        "* list.extend(list2) adds the elements in list2 to the end of the list. Using + or += on a list is similar to using extend().\n",
        "* list.index(elem) -- searches for the given element from the start of the list and returns its index. Throws a ValueError if the element does not appear (use \"in\" to check without a ValueError).\n",
        "* list.remove(elem) -- searches for the first instance of the given element and removes it (throws ValueError if not present)\n",
        "* list.sort() -- sorts the list in place (does not return it). (The sorted() function shown later is preferred.)\n",
        "* list.reverse() -- reverses the list in place (does not return it)\n",
        "* list.pop(index) -- removes and returns the element at the given index. Returns the rightmost element if index is omitted (roughly the opposite of append()).\n"
      ]
    },
    {
      "metadata": {
        "id": "4EKfzfHZ0Wqi",
        "colab_type": "code",
        "colab": {
          "base_uri": "https://localhost:8080/",
          "height": 34
        },
        "outputId": "7eb1a05c-c684-4de0-e9c3-32a05bf3a0c9"
      },
      "cell_type": "code",
      "source": [
        "  list = ['larry', 'curly', 'moe']\n",
        "  list.append('shemp')         ## append elem at end\n",
        "  list\n",
        "  "
      ],
      "execution_count": 0,
      "outputs": [
        {
          "output_type": "execute_result",
          "data": {
            "text/plain": [
              "['larry', 'curly', 'moe', 'shemp']"
            ]
          },
          "metadata": {
            "tags": []
          },
          "execution_count": 37
        }
      ]
    },
    {
      "metadata": {
        "id": "ilOst9DM3CWp",
        "colab_type": "code",
        "colab": {
          "base_uri": "https://localhost:8080/",
          "height": 34
        },
        "outputId": "68e3f8b0-8b01-4df5-cef9-98d4473560e0"
      },
      "cell_type": "code",
      "source": [
        "list.insert(0, 'xxx')        ## insert elem at index 0\n",
        "list"
      ],
      "execution_count": 0,
      "outputs": [
        {
          "output_type": "execute_result",
          "data": {
            "text/plain": [
              "['xxx', 'larry', 'curly', 'moe', 'shemp']"
            ]
          },
          "metadata": {
            "tags": []
          },
          "execution_count": 38
        }
      ]
    },
    {
      "metadata": {
        "id": "h4kuB8u_3Idc",
        "colab_type": "code",
        "colab": {
          "base_uri": "https://localhost:8080/",
          "height": 34
        },
        "outputId": "4ec53114-0f88-47c3-ede5-8e2f7a984b20"
      },
      "cell_type": "code",
      "source": [
        "list.extend(['yyy', 'zzz'])  ## add list of elems at end\n",
        "list"
      ],
      "execution_count": 0,
      "outputs": [
        {
          "output_type": "execute_result",
          "data": {
            "text/plain": [
              "['xxx', 'larry', 'curly', 'moe', 'shemp', 'yyy', 'zzz']"
            ]
          },
          "metadata": {
            "tags": []
          },
          "execution_count": 39
        }
      ]
    },
    {
      "metadata": {
        "id": "X_OtMHcl3NMz",
        "colab_type": "code",
        "colab": {
          "base_uri": "https://localhost:8080/",
          "height": 34
        },
        "outputId": "3cfbf3d8-8557-4093-f135-3816737cb284"
      },
      "cell_type": "code",
      "source": [
        "list.remove('curly')         ## search and remove that element\n",
        "list"
      ],
      "execution_count": 0,
      "outputs": [
        {
          "output_type": "execute_result",
          "data": {
            "text/plain": [
              "['xxx', 'larry', 'moe', 'shemp', 'yyy', 'zzz']"
            ]
          },
          "metadata": {
            "tags": []
          },
          "execution_count": 40
        }
      ]
    },
    {
      "metadata": {
        "id": "jH_wlgMy3UGV",
        "colab_type": "code",
        "colab": {
          "base_uri": "https://localhost:8080/",
          "height": 34
        },
        "outputId": "681f00fe-9b47-4ebc-af6e-bcbea407b425"
      },
      "cell_type": "code",
      "source": [
        "list.pop(1)\n",
        "list"
      ],
      "execution_count": 0,
      "outputs": [
        {
          "output_type": "execute_result",
          "data": {
            "text/plain": [
              "['xxx', 'moe', 'shemp', 'yyy', 'zzz']"
            ]
          },
          "metadata": {
            "tags": []
          },
          "execution_count": 41
        }
      ]
    },
    {
      "metadata": {
        "id": "KEjXsh3V3mmD",
        "colab_type": "text"
      },
      "cell_type": "markdown",
      "source": [
        "**note that the above methods do not *return* the modified list, they just modify the original list**\n",
        "\n",
        "## List Build Up"
      ]
    },
    {
      "metadata": {
        "id": "Gl-JO8ij3a-v",
        "colab_type": "code",
        "colab": {
          "base_uri": "https://localhost:8080/",
          "height": 34
        },
        "outputId": "292daa33-8f46-4833-ea32-dc76124dcab4"
      },
      "cell_type": "code",
      "source": [
        "num_list = []\n",
        "for i in range(5): # if you skip the start in range it defaults to zero\n",
        "  num_list.append(i)\n",
        "num_list"
      ],
      "execution_count": 0,
      "outputs": [
        {
          "output_type": "execute_result",
          "data": {
            "text/plain": [
              "[0, 1, 2, 3, 4]"
            ]
          },
          "metadata": {
            "tags": []
          },
          "execution_count": 42
        }
      ]
    },
    {
      "metadata": {
        "id": "G94ZqdtjvYD9",
        "colab_type": "code",
        "colab": {}
      },
      "cell_type": "code",
      "source": [
        "import requests\n",
        "resp = requests.get('http://www.gutenberg.org/cache/epub/57992/pg57992.txt')"
      ],
      "execution_count": 0,
      "outputs": []
    },
    {
      "metadata": {
        "id": "HnC4_1lYvdyb",
        "colab_type": "code",
        "colab": {}
      },
      "cell_type": "code",
      "source": [
        "text = resp.text"
      ],
      "execution_count": 0,
      "outputs": []
    },
    {
      "metadata": {
        "id": "gPH1EPZgvksC",
        "colab_type": "code",
        "colab": {
          "base_uri": "https://localhost:8080/",
          "height": 34
        },
        "outputId": "2c26b602-7e7b-4c6d-f234-d42a9bbf495a"
      },
      "cell_type": "code",
      "source": [
        "text[:100]"
      ],
      "execution_count": 0,
      "outputs": [
        {
          "output_type": "execute_result",
          "data": {
            "text/plain": [
              "'\\ufeffThe Project Gutenberg EBook of Des variations du langage français depuis\\r\\nle XIIe siècle, by Franço'"
            ]
          },
          "metadata": {
            "tags": []
          },
          "execution_count": 47
        }
      ]
    },
    {
      "metadata": {
        "id": "tuKRDMCWvxDX",
        "colab_type": "code",
        "colab": {}
      },
      "cell_type": "code",
      "source": [
        "lines = text.split('\\n')"
      ],
      "execution_count": 0,
      "outputs": []
    },
    {
      "metadata": {
        "id": "1j-Q_IXFv2FO",
        "colab_type": "code",
        "colab": {
          "base_uri": "https://localhost:8080/",
          "height": 451
        },
        "outputId": "be619c82-1027-4cfd-b42b-2a58bbb0cf2e"
      },
      "cell_type": "code",
      "source": [
        "lines[:25]"
      ],
      "execution_count": 0,
      "outputs": [
        {
          "output_type": "execute_result",
          "data": {
            "text/plain": [
              "['\\ufeffThe Project Gutenberg EBook of Des variations du langage français depuis\\r',\n",
              " 'le XIIe siècle, by François Génin\\r',\n",
              " '\\r',\n",
              " 'This eBook is for the use of anyone anywhere at no cost and with\\r',\n",
              " 'almost no restrictions whatsoever.  You may copy it, give it away or\\r',\n",
              " 're-use it under the terms of the Project Gutenberg License included\\r',\n",
              " 'with this eBook or online at www.gutenberg.org/license\\r',\n",
              " '\\r',\n",
              " '\\r',\n",
              " 'Title: Des variations du langage français depuis le XIIe siècle\\r',\n",
              " '       ou recherche des principes qui devraient régler\\r',\n",
              " \"       l'orthographe et la prononciation\\r\",\n",
              " '\\r',\n",
              " 'Author: François Génin\\r',\n",
              " '\\r',\n",
              " 'Release Date: September 30, 2018 [EBook #57992]\\r',\n",
              " '\\r',\n",
              " 'Language: French\\r',\n",
              " '\\r',\n",
              " '\\r',\n",
              " '*** START OF THIS PROJECT GUTENBERG EBOOK DES VARIATIONS DU LANGAGE ***\\r',\n",
              " '\\r',\n",
              " '\\r',\n",
              " '\\r',\n",
              " '\\r']"
            ]
          },
          "metadata": {
            "tags": []
          },
          "execution_count": 53
        }
      ]
    },
    {
      "metadata": {
        "id": "sCxm4hz_4Fk_",
        "colab_type": "text"
      },
      "cell_type": "markdown",
      "source": [
        "## List Slices"
      ]
    },
    {
      "metadata": {
        "id": "1Mw94ynj4AYd",
        "colab_type": "code",
        "colab": {
          "base_uri": "https://localhost:8080/",
          "height": 34
        },
        "outputId": "1181b39f-5784-4050-ceef-88c089ca0bcd"
      },
      "cell_type": "code",
      "source": [
        "num_list[0]"
      ],
      "execution_count": 0,
      "outputs": [
        {
          "output_type": "execute_result",
          "data": {
            "text/plain": [
              "0"
            ]
          },
          "metadata": {
            "tags": []
          },
          "execution_count": 54
        }
      ]
    },
    {
      "metadata": {
        "id": "zaqecDVS4KXB",
        "colab_type": "code",
        "colab": {
          "base_uri": "https://localhost:8080/",
          "height": 34
        },
        "outputId": "a8e073dc-2270-4487-c6ad-edba88de11e1"
      },
      "cell_type": "code",
      "source": [
        "num_list[:3]"
      ],
      "execution_count": 0,
      "outputs": [
        {
          "output_type": "execute_result",
          "data": {
            "text/plain": [
              "[0, 1, 2]"
            ]
          },
          "metadata": {
            "tags": []
          },
          "execution_count": 55
        }
      ]
    },
    {
      "metadata": {
        "id": "YFPIPg3a4Nr9",
        "colab_type": "code",
        "colab": {
          "base_uri": "https://localhost:8080/",
          "height": 34
        },
        "outputId": "3938acb7-97fc-4f0c-eb17-d94da8f86085"
      },
      "cell_type": "code",
      "source": [
        "num_list[2:]"
      ],
      "execution_count": 0,
      "outputs": [
        {
          "output_type": "execute_result",
          "data": {
            "text/plain": [
              "[2, 3, 4]"
            ]
          },
          "metadata": {
            "tags": []
          },
          "execution_count": 56
        }
      ]
    },
    {
      "metadata": {
        "id": "ak56jLpW4PYA",
        "colab_type": "code",
        "colab": {
          "base_uri": "https://localhost:8080/",
          "height": 34
        },
        "outputId": "405d4b8d-24fd-4a72-868c-3cd590220288"
      },
      "cell_type": "code",
      "source": [
        "num_list[1:3]"
      ],
      "execution_count": 0,
      "outputs": [
        {
          "output_type": "execute_result",
          "data": {
            "text/plain": [
              "[1, 2]"
            ]
          },
          "metadata": {
            "tags": []
          },
          "execution_count": 57
        }
      ]
    },
    {
      "metadata": {
        "id": "MfDbPVOA4SEJ",
        "colab_type": "code",
        "colab": {
          "base_uri": "https://localhost:8080/",
          "height": 34
        },
        "outputId": "e7f583b3-8eb5-46c1-c828-f6964eef1c14"
      },
      "cell_type": "code",
      "source": [
        "num_list[-1]"
      ],
      "execution_count": 0,
      "outputs": [
        {
          "output_type": "execute_result",
          "data": {
            "text/plain": [
              "4"
            ]
          },
          "metadata": {
            "tags": []
          },
          "execution_count": 58
        }
      ]
    },
    {
      "metadata": {
        "id": "RHJy6Hos4T_4",
        "colab_type": "code",
        "colab": {
          "base_uri": "https://localhost:8080/",
          "height": 34
        },
        "outputId": "bb044f02-3c92-43ef-ba7c-b0b5f9bdaaf8"
      },
      "cell_type": "code",
      "source": [
        "num_list[-3:-1]"
      ],
      "execution_count": 0,
      "outputs": [
        {
          "output_type": "execute_result",
          "data": {
            "text/plain": [
              "[2, 3]"
            ]
          },
          "metadata": {
            "tags": []
          },
          "execution_count": 59
        }
      ]
    },
    {
      "metadata": {
        "id": "lBih93e64oC6",
        "colab_type": "text"
      },
      "cell_type": "markdown",
      "source": [
        "## Python Sorting "
      ]
    },
    {
      "metadata": {
        "id": "9lz04zF-4aLL",
        "colab_type": "code",
        "colab": {
          "base_uri": "https://localhost:8080/",
          "height": 34
        },
        "outputId": "1291e79b-077f-48e9-8257-ba4d44968a87"
      },
      "cell_type": "code",
      "source": [
        "a = [5, 1, 4, 3]\n",
        "sorted(a) # returns a sorted list"
      ],
      "execution_count": 0,
      "outputs": [
        {
          "output_type": "execute_result",
          "data": {
            "text/plain": [
              "[1, 3, 4, 5]"
            ]
          },
          "metadata": {
            "tags": []
          },
          "execution_count": 72
        }
      ]
    },
    {
      "metadata": {
        "id": "6xXL6YRzBZoH",
        "colab_type": "code",
        "colab": {
          "base_uri": "https://localhost:8080/",
          "height": 34
        },
        "outputId": "433a83fe-5e38-499f-ad0f-aa14534114ea"
      },
      "cell_type": "code",
      "source": [
        "a, sorted(a)"
      ],
      "execution_count": 0,
      "outputs": [
        {
          "output_type": "execute_result",
          "data": {
            "text/plain": [
              "([5, 1, 4, 3], [1, 3, 4, 5])"
            ]
          },
          "metadata": {
            "tags": []
          },
          "execution_count": 78
        }
      ]
    },
    {
      "metadata": {
        "id": "_VBSRZX0Alfx",
        "colab_type": "code",
        "colab": {
          "base_uri": "https://localhost:8080/",
          "height": 34
        },
        "outputId": "681484aa-0e1f-4a7e-8322-0f505a69e926"
      },
      "cell_type": "code",
      "source": [
        "sorted(a,reverse=True) # descending"
      ],
      "execution_count": 0,
      "outputs": [
        {
          "output_type": "execute_result",
          "data": {
            "text/plain": [
              "[5, 4, 3, 1]"
            ]
          },
          "metadata": {
            "tags": []
          },
          "execution_count": 73
        }
      ]
    },
    {
      "metadata": {
        "id": "spyU3M5dA29r",
        "colab_type": "text"
      },
      "cell_type": "markdown",
      "source": [
        "## Custom sorting"
      ]
    },
    {
      "metadata": {
        "id": "4KjB9CJmAukW",
        "colab_type": "code",
        "colab": {
          "base_uri": "https://localhost:8080/",
          "height": 34
        },
        "outputId": "5bef4d9a-83ad-4345-8f39-f2f00cc1759c"
      },
      "cell_type": "code",
      "source": [
        "strs = ['ccc', 'aaaa', 'd', 'bb']\n",
        "sorted(strs, key=len) # len is function that returns the length of the string"
      ],
      "execution_count": 0,
      "outputs": [
        {
          "output_type": "execute_result",
          "data": {
            "text/plain": [
              "['d', 'bb', 'ccc', 'aaaa']"
            ]
          },
          "metadata": {
            "tags": []
          },
          "execution_count": 74
        }
      ]
    },
    {
      "metadata": {
        "id": "xH5XfXQ3BMX7",
        "colab_type": "text"
      },
      "cell_type": "markdown",
      "source": [
        "## inplace sorting"
      ]
    },
    {
      "metadata": {
        "id": "nK0JP0YCA-EN",
        "colab_type": "code",
        "colab": {
          "base_uri": "https://localhost:8080/",
          "height": 34
        },
        "outputId": "0d8f7fc7-8640-45d7-d945-5619c7ab267b"
      },
      "cell_type": "code",
      "source": [
        "strs.sort()\n",
        "strs"
      ],
      "execution_count": 0,
      "outputs": [
        {
          "output_type": "execute_result",
          "data": {
            "text/plain": [
              "['aaaa', 'bb', 'ccc', 'd']"
            ]
          },
          "metadata": {
            "tags": []
          },
          "execution_count": 77
        }
      ]
    },
    {
      "metadata": {
        "id": "9RlHo8sVBxoe",
        "colab_type": "text"
      },
      "cell_type": "markdown",
      "source": [
        "## Tuples\n",
        "* They are list like, but are immutable. \n",
        "* you cannot change the values once assigned (like `final` in java)"
      ]
    },
    {
      "metadata": {
        "id": "nxgWjcOfBJ0g",
        "colab_type": "code",
        "colab": {
          "base_uri": "https://localhost:8080/",
          "height": 86
        },
        "outputId": "90b3b9cf-49d6-4a2b-86e7-079c8201af52"
      },
      "cell_type": "code",
      "source": [
        "a = (1,2,3,4)\n",
        "for i in a:\n",
        "  print(i)"
      ],
      "execution_count": 0,
      "outputs": [
        {
          "output_type": "stream",
          "text": [
            "1\n",
            "2\n",
            "3\n",
            "4\n"
          ],
          "name": "stdout"
        }
      ]
    },
    {
      "metadata": {
        "id": "PcDhuUzmB2Tr",
        "colab_type": "code",
        "colab": {
          "base_uri": "https://localhost:8080/",
          "height": 34
        },
        "outputId": "9e8b5855-551c-4379-937e-2cd7c50b19fc"
      },
      "cell_type": "code",
      "source": [
        "a[0],a[-1],a[2:]"
      ],
      "execution_count": 0,
      "outputs": [
        {
          "output_type": "execute_result",
          "data": {
            "text/plain": [
              "(1, 4, (3, 4))"
            ]
          },
          "metadata": {
            "tags": []
          },
          "execution_count": 82
        }
      ]
    },
    {
      "metadata": {
        "id": "vv9ufQ1pCD8c",
        "colab_type": "text"
      },
      "cell_type": "markdown",
      "source": [
        "## List Comprehensions \n",
        "\n",
        "* syntactic sugar for list + for loop based logic"
      ]
    },
    {
      "metadata": {
        "id": "rrnacaXXB5E0",
        "colab_type": "code",
        "colab": {
          "base_uri": "https://localhost:8080/",
          "height": 34
        },
        "outputId": "2413f710-c452-464d-e48c-81eeebd13b17"
      },
      "cell_type": "code",
      "source": [
        "nums = [1, 2, 3, 4]\n",
        "squares = [ n * n for n in nums ]   ## [1, 4, 9, 16]\n",
        "squares"
      ],
      "execution_count": 0,
      "outputs": [
        {
          "output_type": "execute_result",
          "data": {
            "text/plain": [
              "[1, 4, 9, 16]"
            ]
          },
          "metadata": {
            "tags": []
          },
          "execution_count": 83
        }
      ]
    },
    {
      "metadata": {
        "id": "I9AuXA6HCZe3",
        "colab_type": "code",
        "colab": {
          "base_uri": "https://localhost:8080/",
          "height": 34
        },
        "outputId": "8bf61ad4-dadf-45b1-ae0f-d2014ca65dde"
      },
      "cell_type": "code",
      "source": [
        "strs = ['hello', 'and', 'goodbye']\n",
        "shouting = [ s.upper() + '!!!' for s in strs ]\n",
        "shouting"
      ],
      "execution_count": 0,
      "outputs": [
        {
          "output_type": "execute_result",
          "data": {
            "text/plain": [
              "['HELLO!!!', 'AND!!!', 'GOODBYE!!!']"
            ]
          },
          "metadata": {
            "tags": []
          },
          "execution_count": 85
        }
      ]
    },
    {
      "metadata": {
        "id": "hkF670C_tw8x",
        "colab_type": "text"
      },
      "cell_type": "markdown",
      "source": [
        "## Assignments\n",
        "\n",
        "* To practice the material in this section, complete problems in [**`list1.py`**](https://github.com/screel-labs/ml-lite/blob/master/Python-Tutorials/exercises/list1.py) .\n",
        "* Try out some additional basic string exercises in [**`string2.py`**](https://github.com/screel-labs/ml-lite/blob/master/Python-Tutorials/exercises/string2.py) to recap strings in python.\n",
        "\n"
      ]
    }
  ]
}
