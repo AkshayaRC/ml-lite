{
  "nbformat": 4,
  "nbformat_minor": 0,
  "metadata": {
    "colab": {
      "name": "Python - Dictionaries and Files",
      "version": "0.3.2",
      "provenance": [],
      "collapsed_sections": []
    },
    "kernelspec": {
      "name": "python3",
      "display_name": "Python 3"
    }
  },
  "cells": [
    {
      "metadata": {
        "id": "LhzN0PDOICfy",
        "colab_type": "text"
      },
      "cell_type": "markdown",
      "source": [
        "# Dict\n",
        "\n",
        "Python's efficient key/value hash table structure is called a \"dict\". The contents of a dict can be written as a series of key:value pairs within braces { }, e.g. dict = {key1:value1, key2:value2, ... }. The \"empty dict\" is just an empty pair of curly braces {}.\n",
        "\n",
        "![Dict Hash Table](https://developers.google.com/edu/python/images/dict.png)"
      ]
    },
    {
      "metadata": {
        "id": "ov-tYFLgGliw",
        "colab_type": "code",
        "colab": {
          "base_uri": "https://localhost:8080/",
          "height": 34
        },
        "outputId": "a9106c91-1b00-4520-944c-d70e3616e34f"
      },
      "cell_type": "code",
      "source": [
        "## Can build up a dict by starting with the the empty dict {}\n",
        "## and storing key/value pairs into the dict like this:\n",
        "## dict[key] = value-for-that-key\n",
        "dict = {}\n",
        "dict['a'] = 'alpha'\n",
        "dict['g'] = 'gamma'\n",
        "dict['o'] = 'omega'\n",
        "\n",
        "dict\n"
      ],
      "execution_count": 4,
      "outputs": [
        {
          "output_type": "execute_result",
          "data": {
            "text/plain": [
              "{'a': 'alpha', 'g': 'gamma', 'o': 'omega'}"
            ]
          },
          "metadata": {
            "tags": []
          },
          "execution_count": 4
        }
      ]
    },
    {
      "metadata": {
        "id": "ONxhNUCVIony",
        "colab_type": "text"
      },
      "cell_type": "markdown",
      "source": [
        "Elements of dict can be accessed by indexing based ons key"
      ]
    },
    {
      "metadata": {
        "id": "7OUN6QFlImFN",
        "colab_type": "code",
        "colab": {
          "base_uri": "https://localhost:8080/",
          "height": 34
        },
        "outputId": "f8d27e0a-aed2-41a1-e6a0-157cc8297f7c"
      },
      "cell_type": "code",
      "source": [
        "dict['a']"
      ],
      "execution_count": 6,
      "outputs": [
        {
          "output_type": "execute_result",
          "data": {
            "text/plain": [
              "'alpha'"
            ]
          },
          "metadata": {
            "tags": []
          },
          "execution_count": 6
        }
      ]
    },
    {
      "metadata": {
        "id": "Y-cRTA5iIaWH",
        "colab_type": "code",
        "colab": {
          "base_uri": "https://localhost:8080/",
          "height": 34
        },
        "outputId": "4ff5ce33-f02f-4c6b-bbd3-07bf9ffe49c9"
      },
      "cell_type": "code",
      "source": [
        "dict['a'] = 'theta'\n",
        "dict"
      ],
      "execution_count": 7,
      "outputs": [
        {
          "output_type": "execute_result",
          "data": {
            "text/plain": [
              "{'a': 'theta', 'g': 'gamma', 'o': 'omega'}"
            ]
          },
          "metadata": {
            "tags": []
          },
          "execution_count": 7
        }
      ]
    },
    {
      "metadata": {
        "id": "1d-az21wJB3K",
        "colab_type": "text"
      },
      "cell_type": "markdown",
      "source": [
        "Throws `KeyError` when you try access an element that is not present in the dict"
      ]
    },
    {
      "metadata": {
        "id": "eZJhMTUjITmR",
        "colab_type": "code",
        "colab": {
          "base_uri": "https://localhost:8080/",
          "height": 167
        },
        "outputId": "8c7bafc1-0bc4-44ef-ce21-d808c3c544a4"
      },
      "cell_type": "code",
      "source": [
        "dict['hello']"
      ],
      "execution_count": 8,
      "outputs": [
        {
          "output_type": "error",
          "ename": "KeyError",
          "evalue": "ignored",
          "traceback": [
            "\u001b[0;31m---------------------------------------------------------------------------\u001b[0m",
            "\u001b[0;31mKeyError\u001b[0m                                  Traceback (most recent call last)",
            "\u001b[0;32m<ipython-input-8-b4064e6c8f62>\u001b[0m in \u001b[0;36m<module>\u001b[0;34m()\u001b[0m\n\u001b[0;32m----> 1\u001b[0;31m \u001b[0mdict\u001b[0m\u001b[0;34m[\u001b[0m\u001b[0;34m'hello'\u001b[0m\u001b[0;34m]\u001b[0m\u001b[0;34m\u001b[0m\u001b[0m\n\u001b[0m",
            "\u001b[0;31mKeyError\u001b[0m: 'hello'"
          ]
        }
      ]
    },
    {
      "metadata": {
        "id": "-IhgMzLnLa2V",
        "colab_type": "text"
      },
      "cell_type": "markdown",
      "source": [
        "You can use the `dict.get()` method, if you want to get a default value when the key you look for is not present in the dict instead of getting a `KeyError`"
      ]
    },
    {
      "metadata": {
        "id": "Ma18vq-SLsVm",
        "colab_type": "code",
        "colab": {
          "base_uri": "https://localhost:8080/",
          "height": 34
        },
        "outputId": "fdb26ec1-6b81-4358-ded8-a966c0c96e94"
      },
      "cell_type": "code",
      "source": [
        "dict.get('g','default_value')"
      ],
      "execution_count": 19,
      "outputs": [
        {
          "output_type": "execute_result",
          "data": {
            "text/plain": [
              "'gamma'"
            ]
          },
          "metadata": {
            "tags": []
          },
          "execution_count": 19
        }
      ]
    },
    {
      "metadata": {
        "id": "-hSPTMivLnSQ",
        "colab_type": "code",
        "colab": {
          "base_uri": "https://localhost:8080/",
          "height": 34
        },
        "outputId": "4251624f-531b-4eae-d305-22979862c660"
      },
      "cell_type": "code",
      "source": [
        "dict.get('x','default_value')"
      ],
      "execution_count": 17,
      "outputs": [
        {
          "output_type": "execute_result",
          "data": {
            "text/plain": [
              "'default_value'"
            ]
          },
          "metadata": {
            "tags": []
          },
          "execution_count": 17
        }
      ]
    },
    {
      "metadata": {
        "id": "XgvUTP7MJKZh",
        "colab_type": "text"
      },
      "cell_type": "markdown",
      "source": [
        "You can loop through the keys in the dict using for loop"
      ]
    },
    {
      "metadata": {
        "id": "FmzWudKDJI_Y",
        "colab_type": "code",
        "colab": {
          "base_uri": "https://localhost:8080/",
          "height": 69
        },
        "outputId": "638e7799-73ea-4f23-c5c8-0b13eb3f287e"
      },
      "cell_type": "code",
      "source": [
        "for k in dict:\n",
        "  print(dict[k])"
      ],
      "execution_count": 9,
      "outputs": [
        {
          "output_type": "stream",
          "text": [
            "theta\n",
            "gamma\n",
            "omega\n"
          ],
          "name": "stdout"
        }
      ]
    },
    {
      "metadata": {
        "id": "2eDd9kOxJW7D",
        "colab_type": "text"
      },
      "cell_type": "markdown",
      "source": [
        "You can use the `in` clause to check if dict contains a specific key"
      ]
    },
    {
      "metadata": {
        "id": "Lf1a_N7nJR21",
        "colab_type": "code",
        "colab": {
          "base_uri": "https://localhost:8080/",
          "height": 34
        },
        "outputId": "06c94b1c-7308-4fbd-e07c-fef7cdd8479f"
      },
      "cell_type": "code",
      "source": [
        "is_a_present = 'a' in dict\n",
        "is_x_present = 'x' in dict\n",
        "is_a_present,is_x_present"
      ],
      "execution_count": 13,
      "outputs": [
        {
          "output_type": "execute_result",
          "data": {
            "text/plain": [
              "(True, False)"
            ]
          },
          "metadata": {
            "tags": []
          },
          "execution_count": 13
        }
      ]
    },
    {
      "metadata": {
        "id": "H_EmhtwxJ-wr",
        "colab_type": "text"
      },
      "cell_type": "markdown",
      "source": [
        "You can use the keys() method to get the keys in a dict"
      ]
    },
    {
      "metadata": {
        "id": "qHQCGSnYJmCH",
        "colab_type": "code",
        "colab": {
          "base_uri": "https://localhost:8080/",
          "height": 34
        },
        "outputId": "d99a8ad8-12b3-4caa-b4c3-de90c6409bfb"
      },
      "cell_type": "code",
      "source": [
        "dict.keys()"
      ],
      "execution_count": 14,
      "outputs": [
        {
          "output_type": "execute_result",
          "data": {
            "text/plain": [
              "dict_keys(['a', 'g', 'o'])"
            ]
          },
          "metadata": {
            "tags": []
          },
          "execution_count": 14
        }
      ]
    },
    {
      "metadata": {
        "id": "nkeiShERKGiO",
        "colab_type": "text"
      },
      "cell_type": "markdown",
      "source": [
        "You can use the items() method to get a list of key,value tuples"
      ]
    },
    {
      "metadata": {
        "id": "muMH_lmRJr9H",
        "colab_type": "code",
        "colab": {
          "base_uri": "https://localhost:8080/",
          "height": 34
        },
        "outputId": "321fa561-0846-4bb1-a7f5-c7ba90d9deef"
      },
      "cell_type": "code",
      "source": [
        "dict.items()"
      ],
      "execution_count": 15,
      "outputs": [
        {
          "output_type": "execute_result",
          "data": {
            "text/plain": [
              "dict_items([('a', 'theta'), ('g', 'gamma'), ('o', 'omega')])"
            ]
          },
          "metadata": {
            "tags": []
          },
          "execution_count": 15
        }
      ]
    },
    {
      "metadata": {
        "id": "p-ctMD7gKsgT",
        "colab_type": "text"
      },
      "cell_type": "markdown",
      "source": [
        "You can use the del command to delete a key from the dict"
      ]
    },
    {
      "metadata": {
        "id": "5xosEm9gKL5b",
        "colab_type": "code",
        "colab": {
          "base_uri": "https://localhost:8080/",
          "height": 34
        },
        "outputId": "6139f048-c42f-4d2f-9fb0-1ca30fc99e81"
      },
      "cell_type": "code",
      "source": [
        "del dict['a']\n",
        "dict"
      ],
      "execution_count": 16,
      "outputs": [
        {
          "output_type": "execute_result",
          "data": {
            "text/plain": [
              "{'g': 'gamma', 'o': 'omega'}"
            ]
          },
          "metadata": {
            "tags": []
          },
          "execution_count": 16
        }
      ]
    },
    {
      "metadata": {
        "id": "dmOGN2FFxDk1",
        "colab_type": "text"
      },
      "cell_type": "markdown",
      "source": [
        "# Files\n",
        "\n",
        "* The open() function opens and returns a file handle that can be used to read or write a file in the usual way. \n",
        "* The code f = open('name', 'r') opens the file into the variable f, ready for reading operations, and use f.close() when finished.\n",
        "* Instead of 'r', use 'w' for writing, and 'a' for append. \n",
        "* The standard for-loop works for text files, iterating through the lines of the file. \n",
        "* The for-loop technique is a simple and efficient way to look at all the lines in a text file:"
      ]
    },
    {
      "metadata": {
        "id": "RTPgylG3K3EP",
        "colab_type": "code",
        "colab": {
          "base_uri": "https://localhost:8080/",
          "height": 173
        },
        "outputId": "1ff4dab8-5a5d-4447-e362-fa5ba5a25413"
      },
      "cell_type": "code",
      "source": [
        "x = ['line_{}'.format(i) for i in range(1,10)] # we are using list comprehension in python here, it is a syntactic sugar for for \n",
        "x"
      ],
      "execution_count": 2,
      "outputs": [
        {
          "output_type": "execute_result",
          "data": {
            "text/plain": [
              "['line_1',\n",
              " 'line_2',\n",
              " 'line_3',\n",
              " 'line_4',\n",
              " 'line_5',\n",
              " 'line_6',\n",
              " 'line_7',\n",
              " 'line_8',\n",
              " 'line_9']"
            ]
          },
          "metadata": {
            "tags": []
          },
          "execution_count": 2
        }
      ]
    },
    {
      "metadata": {
        "id": "Au0hMd7TxyKM",
        "colab_type": "code",
        "colab": {}
      },
      "cell_type": "code",
      "source": [
        "text_file = open('sample_text_file','w')\n",
        "for item in x:\n",
        "  text_file.write('{}{}'.format(item,'\\n'))\n",
        "text_file.close() # this line is important. You should close the file to ensure all the written content gets saved"
      ],
      "execution_count": 0,
      "outputs": []
    },
    {
      "metadata": {
        "id": "4ylpvLfOyTkH",
        "colab_type": "text"
      },
      "cell_type": "markdown",
      "source": [
        "Let's check the contents of sample text file.\n",
        "\n",
        "You can use `! <command>` in ipython to execute an OS command"
      ]
    },
    {
      "metadata": {
        "id": "7iypfzPfyMUV",
        "colab_type": "code",
        "colab": {
          "base_uri": "https://localhost:8080/",
          "height": 173
        },
        "outputId": "9d69284c-2bfc-4a1c-acf8-aa0a7d94cac5"
      },
      "cell_type": "code",
      "source": [
        "!cat sample_text_file"
      ],
      "execution_count": 6,
      "outputs": [
        {
          "output_type": "stream",
          "text": [
            "line_1\n",
            "line_2\n",
            "line_3\n",
            "line_4\n",
            "line_5\n",
            "line_6\n",
            "line_7\n",
            "line_8\n",
            "line_9\n"
          ],
          "name": "stdout"
        }
      ]
    },
    {
      "metadata": {
        "id": "6kDxykJQyfkq",
        "colab_type": "text"
      },
      "cell_type": "markdown",
      "source": [
        "Now, let's read the stored file and check the number of lines in it"
      ]
    },
    {
      "metadata": {
        "id": "uvDwASO3yPWm",
        "colab_type": "code",
        "colab": {}
      },
      "cell_type": "code",
      "source": [
        "saved_file = open('sample_text_file','r')"
      ],
      "execution_count": 0,
      "outputs": []
    },
    {
      "metadata": {
        "id": "qd4q26UgzBEl",
        "colab_type": "text"
      },
      "cell_type": "markdown",
      "source": [
        "you can loop through the lines of the file by using `for loop`"
      ]
    },
    {
      "metadata": {
        "id": "LbSo1M5nyoes",
        "colab_type": "code",
        "colab": {
          "base_uri": "https://localhost:8080/",
          "height": 330
        },
        "outputId": "dc648460-3e98-4922-933e-2d70086563b5"
      },
      "cell_type": "code",
      "source": [
        "for line in saved_file:\n",
        "  print(line)\n"
      ],
      "execution_count": 8,
      "outputs": [
        {
          "output_type": "stream",
          "text": [
            "line_1\n",
            "\n",
            "line_2\n",
            "\n",
            "line_3\n",
            "\n",
            "line_4\n",
            "\n",
            "line_5\n",
            "\n",
            "line_6\n",
            "\n",
            "line_7\n",
            "\n",
            "line_8\n",
            "\n",
            "line_9\n",
            "\n"
          ],
          "name": "stdout"
        }
      ]
    },
    {
      "metadata": {
        "id": "bB9Ls-4HzM23",
        "colab_type": "text"
      },
      "cell_type": "markdown",
      "source": [
        "# Exercise\n",
        "\n",
        "\n",
        "Combining all the basic Python material -- strings, lists, dicts, tuples, files -- try  [wordcount.py](https://github.com/screel-labs/ml-lite/blob/master/Python-Tutorials/exercises/wordcount.py)"
      ]
    },
    {
      "metadata": {
        "id": "piR85JjKzKYR",
        "colab_type": "code",
        "colab": {}
      },
      "cell_type": "code",
      "source": [
        ""
      ],
      "execution_count": 0,
      "outputs": []
    }
  ]
}